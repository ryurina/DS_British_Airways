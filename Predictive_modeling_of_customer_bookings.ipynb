{
 "cells": [
  {
   "cell_type": "markdown",
   "metadata": {},
   "source": [
    "## Predictive modeling of customer bookings\n",
    "\n",
    "##### Author: Rina RANARISON\n",
    "##### www.rina-corp.xyz\n",
    "##### www.github.com/ryurina\n",
    "---\n",
    "\n",
    "First, we must explore the data in order to better understand what we have and the statistical properties of the dataset."
   ]
  },
  {
   "cell_type": "code",
   "execution_count": 35,
   "metadata": {},
   "outputs": [],
   "source": [
    "import pandas as pd\n",
    "from sklearn.model_selection import train_test_split\n",
    "from sklearn.ensemble import RandomForestClassifier\n",
    "from sklearn.metrics import classification_report, accuracy_score, confusion_matrix\n",
    "import matplotlib.pyplot as plt\n"
   ]
  },
  {
   "cell_type": "code",
   "execution_count": 3,
   "metadata": {},
   "outputs": [
    {
     "data": {
      "text/html": [
       "<div>\n",
       "<style scoped>\n",
       "    .dataframe tbody tr th:only-of-type {\n",
       "        vertical-align: middle;\n",
       "    }\n",
       "\n",
       "    .dataframe tbody tr th {\n",
       "        vertical-align: top;\n",
       "    }\n",
       "\n",
       "    .dataframe thead th {\n",
       "        text-align: right;\n",
       "    }\n",
       "</style>\n",
       "<table border=\"1\" class=\"dataframe\">\n",
       "  <thead>\n",
       "    <tr style=\"text-align: right;\">\n",
       "      <th></th>\n",
       "      <th>num_passengers</th>\n",
       "      <th>sales_channel</th>\n",
       "      <th>trip_type</th>\n",
       "      <th>purchase_lead</th>\n",
       "      <th>length_of_stay</th>\n",
       "      <th>flight_hour</th>\n",
       "      <th>flight_day</th>\n",
       "      <th>route</th>\n",
       "      <th>booking_origin</th>\n",
       "      <th>wants_extra_baggage</th>\n",
       "      <th>wants_preferred_seat</th>\n",
       "      <th>wants_in_flight_meals</th>\n",
       "      <th>flight_duration</th>\n",
       "      <th>booking_complete</th>\n",
       "    </tr>\n",
       "  </thead>\n",
       "  <tbody>\n",
       "    <tr>\n",
       "      <th>0</th>\n",
       "      <td>2</td>\n",
       "      <td>Internet</td>\n",
       "      <td>RoundTrip</td>\n",
       "      <td>262</td>\n",
       "      <td>19</td>\n",
       "      <td>7</td>\n",
       "      <td>Sat</td>\n",
       "      <td>AKLDEL</td>\n",
       "      <td>New Zealand</td>\n",
       "      <td>1</td>\n",
       "      <td>0</td>\n",
       "      <td>0</td>\n",
       "      <td>5.52</td>\n",
       "      <td>0</td>\n",
       "    </tr>\n",
       "    <tr>\n",
       "      <th>1</th>\n",
       "      <td>1</td>\n",
       "      <td>Internet</td>\n",
       "      <td>RoundTrip</td>\n",
       "      <td>112</td>\n",
       "      <td>20</td>\n",
       "      <td>3</td>\n",
       "      <td>Sat</td>\n",
       "      <td>AKLDEL</td>\n",
       "      <td>New Zealand</td>\n",
       "      <td>0</td>\n",
       "      <td>0</td>\n",
       "      <td>0</td>\n",
       "      <td>5.52</td>\n",
       "      <td>0</td>\n",
       "    </tr>\n",
       "    <tr>\n",
       "      <th>2</th>\n",
       "      <td>2</td>\n",
       "      <td>Internet</td>\n",
       "      <td>RoundTrip</td>\n",
       "      <td>243</td>\n",
       "      <td>22</td>\n",
       "      <td>17</td>\n",
       "      <td>Wed</td>\n",
       "      <td>AKLDEL</td>\n",
       "      <td>India</td>\n",
       "      <td>1</td>\n",
       "      <td>1</td>\n",
       "      <td>0</td>\n",
       "      <td>5.52</td>\n",
       "      <td>0</td>\n",
       "    </tr>\n",
       "    <tr>\n",
       "      <th>3</th>\n",
       "      <td>1</td>\n",
       "      <td>Internet</td>\n",
       "      <td>RoundTrip</td>\n",
       "      <td>96</td>\n",
       "      <td>31</td>\n",
       "      <td>4</td>\n",
       "      <td>Sat</td>\n",
       "      <td>AKLDEL</td>\n",
       "      <td>New Zealand</td>\n",
       "      <td>0</td>\n",
       "      <td>0</td>\n",
       "      <td>1</td>\n",
       "      <td>5.52</td>\n",
       "      <td>0</td>\n",
       "    </tr>\n",
       "    <tr>\n",
       "      <th>4</th>\n",
       "      <td>2</td>\n",
       "      <td>Internet</td>\n",
       "      <td>RoundTrip</td>\n",
       "      <td>68</td>\n",
       "      <td>22</td>\n",
       "      <td>15</td>\n",
       "      <td>Wed</td>\n",
       "      <td>AKLDEL</td>\n",
       "      <td>India</td>\n",
       "      <td>1</td>\n",
       "      <td>0</td>\n",
       "      <td>1</td>\n",
       "      <td>5.52</td>\n",
       "      <td>0</td>\n",
       "    </tr>\n",
       "  </tbody>\n",
       "</table>\n",
       "</div>"
      ],
      "text/plain": [
       "   num_passengers sales_channel  trip_type  purchase_lead  length_of_stay  \\\n",
       "0               2      Internet  RoundTrip            262              19   \n",
       "1               1      Internet  RoundTrip            112              20   \n",
       "2               2      Internet  RoundTrip            243              22   \n",
       "3               1      Internet  RoundTrip             96              31   \n",
       "4               2      Internet  RoundTrip             68              22   \n",
       "\n",
       "   flight_hour flight_day   route booking_origin  wants_extra_baggage  \\\n",
       "0            7        Sat  AKLDEL    New Zealand                    1   \n",
       "1            3        Sat  AKLDEL    New Zealand                    0   \n",
       "2           17        Wed  AKLDEL          India                    1   \n",
       "3            4        Sat  AKLDEL    New Zealand                    0   \n",
       "4           15        Wed  AKLDEL          India                    1   \n",
       "\n",
       "   wants_preferred_seat  wants_in_flight_meals  flight_duration  \\\n",
       "0                     0                      0             5.52   \n",
       "1                     0                      0             5.52   \n",
       "2                     1                      0             5.52   \n",
       "3                     0                      1             5.52   \n",
       "4                     0                      1             5.52   \n",
       "\n",
       "   booking_complete  \n",
       "0                 0  \n",
       "1                 0  \n",
       "2                 0  \n",
       "3                 0  \n",
       "4                 0  "
      ]
     },
     "execution_count": 3,
     "metadata": {},
     "output_type": "execute_result"
    }
   ],
   "source": [
    "df = pd.read_csv(\"data/customer_booking.csv\", encoding=\"ISO-8859-1\")\n",
    "df.head()"
   ]
  },
  {
   "cell_type": "markdown",
   "metadata": {},
   "source": [
    "The `.head()` method allows us to view the first 5 rows in the dataset, this is useful for visual inspection of our columns"
   ]
  },
  {
   "cell_type": "code",
   "execution_count": 4,
   "metadata": {},
   "outputs": [
    {
     "name": "stdout",
     "output_type": "stream",
     "text": [
      "<class 'pandas.core.frame.DataFrame'>\n",
      "RangeIndex: 50000 entries, 0 to 49999\n",
      "Data columns (total 14 columns):\n",
      " #   Column                 Non-Null Count  Dtype  \n",
      "---  ------                 --------------  -----  \n",
      " 0   num_passengers         50000 non-null  int64  \n",
      " 1   sales_channel          50000 non-null  object \n",
      " 2   trip_type              50000 non-null  object \n",
      " 3   purchase_lead          50000 non-null  int64  \n",
      " 4   length_of_stay         50000 non-null  int64  \n",
      " 5   flight_hour            50000 non-null  int64  \n",
      " 6   flight_day             50000 non-null  object \n",
      " 7   route                  50000 non-null  object \n",
      " 8   booking_origin         50000 non-null  object \n",
      " 9   wants_extra_baggage    50000 non-null  int64  \n",
      " 10  wants_preferred_seat   50000 non-null  int64  \n",
      " 11  wants_in_flight_meals  50000 non-null  int64  \n",
      " 12  flight_duration        50000 non-null  float64\n",
      " 13  booking_complete       50000 non-null  int64  \n",
      "dtypes: float64(1), int64(8), object(5)\n",
      "memory usage: 5.3+ MB\n"
     ]
    }
   ],
   "source": [
    "df.info()"
   ]
  },
  {
   "cell_type": "markdown",
   "metadata": {},
   "source": [
    "The `.info()` method gives us a data description, telling us the names of the columns, their data types and how many null values we have. Fortunately, we have no null values. It looks like some of these columns should be converted into different data types, e.g. flight_day.\n",
    "\n",
    "To provide more context, below is a more detailed data description, explaining exactly what each column means:\n",
    "\n",
    "- `num_passengers` = number of passengers travelling\n",
    "- `sales_channel` = sales channel booking was made on\n",
    "- `trip_type` = trip Type (Round Trip, One Way, Circle Trip)\n",
    "- `purchase_lead` = number of days between travel date and booking date\n",
    "- `length_of_stay` = number of days spent at destination\n",
    "- `flight_hour` = hour of flight departure\n",
    "- `flight_day` = day of week of flight departure\n",
    "- `route` = origin -> destination flight route\n",
    "- `booking_origin` = country from where booking was made\n",
    "- `wants_extra_baggage` = if the customer wanted extra baggage in the booking\n",
    "- `wants_preferred_seat` = if the customer wanted a preferred seat in the booking\n",
    "- `wants_in_flight_meals` = if the customer wanted in-flight meals in the booking\n",
    "- `flight_duration` = total duration of flight (in hours)\n",
    "- `booking_complete` = flag indicating if the customer completed the booking\n",
    "\n",
    "Before we compute any statistics on the data, lets do any necessary data conversion"
   ]
  },
  {
   "cell_type": "code",
   "execution_count": 9,
   "metadata": {},
   "outputs": [
    {
     "data": {
      "text/plain": [
       "array([6, 3, 4, 1, 7, 2, 5])"
      ]
     },
     "execution_count": 9,
     "metadata": {},
     "output_type": "execute_result"
    }
   ],
   "source": [
    "df[\"flight_day\"].unique()"
   ]
  },
  {
   "cell_type": "code",
   "execution_count": 6,
   "metadata": {},
   "outputs": [],
   "source": [
    "mapping = {\n",
    "    \"Mon\": 1,\n",
    "    \"Tue\": 2,\n",
    "    \"Wed\": 3,\n",
    "    \"Thu\": 4,\n",
    "    \"Fri\": 5,\n",
    "    \"Sat\": 6,\n",
    "    \"Sun\": 7,\n",
    "}\n",
    "\n",
    "df[\"flight_day\"] = df[\"flight_day\"].map(mapping)"
   ]
  },
  {
   "cell_type": "code",
   "execution_count": 7,
   "metadata": {},
   "outputs": [
    {
     "data": {
      "text/plain": [
       "array([6, 3, 4, 1, 7, 2, 5])"
      ]
     },
     "execution_count": 7,
     "metadata": {},
     "output_type": "execute_result"
    }
   ],
   "source": [
    "df[\"flight_day\"].unique()"
   ]
  },
  {
   "cell_type": "code",
   "execution_count": 8,
   "metadata": {},
   "outputs": [
    {
     "data": {
      "text/html": [
       "<div>\n",
       "<style scoped>\n",
       "    .dataframe tbody tr th:only-of-type {\n",
       "        vertical-align: middle;\n",
       "    }\n",
       "\n",
       "    .dataframe tbody tr th {\n",
       "        vertical-align: top;\n",
       "    }\n",
       "\n",
       "    .dataframe thead th {\n",
       "        text-align: right;\n",
       "    }\n",
       "</style>\n",
       "<table border=\"1\" class=\"dataframe\">\n",
       "  <thead>\n",
       "    <tr style=\"text-align: right;\">\n",
       "      <th></th>\n",
       "      <th>num_passengers</th>\n",
       "      <th>purchase_lead</th>\n",
       "      <th>length_of_stay</th>\n",
       "      <th>flight_hour</th>\n",
       "      <th>flight_day</th>\n",
       "      <th>wants_extra_baggage</th>\n",
       "      <th>wants_preferred_seat</th>\n",
       "      <th>wants_in_flight_meals</th>\n",
       "      <th>flight_duration</th>\n",
       "      <th>booking_complete</th>\n",
       "    </tr>\n",
       "  </thead>\n",
       "  <tbody>\n",
       "    <tr>\n",
       "      <th>count</th>\n",
       "      <td>50000.000000</td>\n",
       "      <td>50000.000000</td>\n",
       "      <td>50000.00000</td>\n",
       "      <td>50000.00000</td>\n",
       "      <td>50000.000000</td>\n",
       "      <td>50000.000000</td>\n",
       "      <td>50000.000000</td>\n",
       "      <td>50000.000000</td>\n",
       "      <td>50000.000000</td>\n",
       "      <td>50000.000000</td>\n",
       "    </tr>\n",
       "    <tr>\n",
       "      <th>mean</th>\n",
       "      <td>1.591240</td>\n",
       "      <td>84.940480</td>\n",
       "      <td>23.04456</td>\n",
       "      <td>9.06634</td>\n",
       "      <td>3.814420</td>\n",
       "      <td>0.668780</td>\n",
       "      <td>0.296960</td>\n",
       "      <td>0.427140</td>\n",
       "      <td>7.277561</td>\n",
       "      <td>0.149560</td>\n",
       "    </tr>\n",
       "    <tr>\n",
       "      <th>std</th>\n",
       "      <td>1.020165</td>\n",
       "      <td>90.451378</td>\n",
       "      <td>33.88767</td>\n",
       "      <td>5.41266</td>\n",
       "      <td>1.992792</td>\n",
       "      <td>0.470657</td>\n",
       "      <td>0.456923</td>\n",
       "      <td>0.494668</td>\n",
       "      <td>1.496863</td>\n",
       "      <td>0.356643</td>\n",
       "    </tr>\n",
       "    <tr>\n",
       "      <th>min</th>\n",
       "      <td>1.000000</td>\n",
       "      <td>0.000000</td>\n",
       "      <td>0.00000</td>\n",
       "      <td>0.00000</td>\n",
       "      <td>1.000000</td>\n",
       "      <td>0.000000</td>\n",
       "      <td>0.000000</td>\n",
       "      <td>0.000000</td>\n",
       "      <td>4.670000</td>\n",
       "      <td>0.000000</td>\n",
       "    </tr>\n",
       "    <tr>\n",
       "      <th>25%</th>\n",
       "      <td>1.000000</td>\n",
       "      <td>21.000000</td>\n",
       "      <td>5.00000</td>\n",
       "      <td>5.00000</td>\n",
       "      <td>2.000000</td>\n",
       "      <td>0.000000</td>\n",
       "      <td>0.000000</td>\n",
       "      <td>0.000000</td>\n",
       "      <td>5.620000</td>\n",
       "      <td>0.000000</td>\n",
       "    </tr>\n",
       "    <tr>\n",
       "      <th>50%</th>\n",
       "      <td>1.000000</td>\n",
       "      <td>51.000000</td>\n",
       "      <td>17.00000</td>\n",
       "      <td>9.00000</td>\n",
       "      <td>4.000000</td>\n",
       "      <td>1.000000</td>\n",
       "      <td>0.000000</td>\n",
       "      <td>0.000000</td>\n",
       "      <td>7.570000</td>\n",
       "      <td>0.000000</td>\n",
       "    </tr>\n",
       "    <tr>\n",
       "      <th>75%</th>\n",
       "      <td>2.000000</td>\n",
       "      <td>115.000000</td>\n",
       "      <td>28.00000</td>\n",
       "      <td>13.00000</td>\n",
       "      <td>5.000000</td>\n",
       "      <td>1.000000</td>\n",
       "      <td>1.000000</td>\n",
       "      <td>1.000000</td>\n",
       "      <td>8.830000</td>\n",
       "      <td>0.000000</td>\n",
       "    </tr>\n",
       "    <tr>\n",
       "      <th>max</th>\n",
       "      <td>9.000000</td>\n",
       "      <td>867.000000</td>\n",
       "      <td>778.00000</td>\n",
       "      <td>23.00000</td>\n",
       "      <td>7.000000</td>\n",
       "      <td>1.000000</td>\n",
       "      <td>1.000000</td>\n",
       "      <td>1.000000</td>\n",
       "      <td>9.500000</td>\n",
       "      <td>1.000000</td>\n",
       "    </tr>\n",
       "  </tbody>\n",
       "</table>\n",
       "</div>"
      ],
      "text/plain": [
       "       num_passengers  purchase_lead  length_of_stay  flight_hour  \\\n",
       "count    50000.000000   50000.000000     50000.00000  50000.00000   \n",
       "mean         1.591240      84.940480        23.04456      9.06634   \n",
       "std          1.020165      90.451378        33.88767      5.41266   \n",
       "min          1.000000       0.000000         0.00000      0.00000   \n",
       "25%          1.000000      21.000000         5.00000      5.00000   \n",
       "50%          1.000000      51.000000        17.00000      9.00000   \n",
       "75%          2.000000     115.000000        28.00000     13.00000   \n",
       "max          9.000000     867.000000       778.00000     23.00000   \n",
       "\n",
       "         flight_day  wants_extra_baggage  wants_preferred_seat  \\\n",
       "count  50000.000000         50000.000000          50000.000000   \n",
       "mean       3.814420             0.668780              0.296960   \n",
       "std        1.992792             0.470657              0.456923   \n",
       "min        1.000000             0.000000              0.000000   \n",
       "25%        2.000000             0.000000              0.000000   \n",
       "50%        4.000000             1.000000              0.000000   \n",
       "75%        5.000000             1.000000              1.000000   \n",
       "max        7.000000             1.000000              1.000000   \n",
       "\n",
       "       wants_in_flight_meals  flight_duration  booking_complete  \n",
       "count           50000.000000     50000.000000      50000.000000  \n",
       "mean                0.427140         7.277561          0.149560  \n",
       "std                 0.494668         1.496863          0.356643  \n",
       "min                 0.000000         4.670000          0.000000  \n",
       "25%                 0.000000         5.620000          0.000000  \n",
       "50%                 0.000000         7.570000          0.000000  \n",
       "75%                 1.000000         8.830000          0.000000  \n",
       "max                 1.000000         9.500000          1.000000  "
      ]
     },
     "execution_count": 8,
     "metadata": {},
     "output_type": "execute_result"
    }
   ],
   "source": [
    "df.describe()"
   ]
  },
  {
   "cell_type": "markdown",
   "metadata": {},
   "source": [
    "The `.describe()` method gives us a summary of descriptive statistics over the entire dataset (only works for numeric columns). This gives us a quick overview of a few things such as the mean, min, max and overall distribution of each column.\n",
    "\n",
    "From this point, you should continue exploring the dataset with some visualisations and other metrics that you think may be useful. Then, you should prepare your dataset for predictive modelling. Finally, you should train your machine learning model, evaluate it with performance metrics and output visualisations for the contributing variables. All of this analysis should be summarised in your single slide."
   ]
  },
  {
   "cell_type": "markdown",
   "metadata": {},
   "source": []
  },
  {
   "cell_type": "code",
   "execution_count": 18,
   "metadata": {},
   "outputs": [
    {
     "data": {
      "text/html": [
       "<div>\n",
       "<style scoped>\n",
       "    .dataframe tbody tr th:only-of-type {\n",
       "        vertical-align: middle;\n",
       "    }\n",
       "\n",
       "    .dataframe tbody tr th {\n",
       "        vertical-align: top;\n",
       "    }\n",
       "\n",
       "    .dataframe thead th {\n",
       "        text-align: right;\n",
       "    }\n",
       "</style>\n",
       "<table border=\"1\" class=\"dataframe\">\n",
       "  <thead>\n",
       "    <tr style=\"text-align: right;\">\n",
       "      <th></th>\n",
       "      <th>num_passengers</th>\n",
       "      <th>purchase_lead</th>\n",
       "      <th>length_of_stay</th>\n",
       "      <th>flight_hour</th>\n",
       "      <th>flight_day</th>\n",
       "      <th>wants_extra_baggage</th>\n",
       "      <th>wants_preferred_seat</th>\n",
       "      <th>wants_in_flight_meals</th>\n",
       "      <th>flight_duration</th>\n",
       "      <th>booking_complete</th>\n",
       "    </tr>\n",
       "  </thead>\n",
       "  <tbody>\n",
       "    <tr>\n",
       "      <th>0</th>\n",
       "      <td>2</td>\n",
       "      <td>262</td>\n",
       "      <td>19</td>\n",
       "      <td>7</td>\n",
       "      <td>6</td>\n",
       "      <td>1</td>\n",
       "      <td>0</td>\n",
       "      <td>0</td>\n",
       "      <td>5.52</td>\n",
       "      <td>0</td>\n",
       "    </tr>\n",
       "    <tr>\n",
       "      <th>1</th>\n",
       "      <td>1</td>\n",
       "      <td>112</td>\n",
       "      <td>20</td>\n",
       "      <td>3</td>\n",
       "      <td>6</td>\n",
       "      <td>0</td>\n",
       "      <td>0</td>\n",
       "      <td>0</td>\n",
       "      <td>5.52</td>\n",
       "      <td>0</td>\n",
       "    </tr>\n",
       "    <tr>\n",
       "      <th>2</th>\n",
       "      <td>2</td>\n",
       "      <td>243</td>\n",
       "      <td>22</td>\n",
       "      <td>17</td>\n",
       "      <td>3</td>\n",
       "      <td>1</td>\n",
       "      <td>1</td>\n",
       "      <td>0</td>\n",
       "      <td>5.52</td>\n",
       "      <td>0</td>\n",
       "    </tr>\n",
       "    <tr>\n",
       "      <th>3</th>\n",
       "      <td>1</td>\n",
       "      <td>96</td>\n",
       "      <td>31</td>\n",
       "      <td>4</td>\n",
       "      <td>6</td>\n",
       "      <td>0</td>\n",
       "      <td>0</td>\n",
       "      <td>1</td>\n",
       "      <td>5.52</td>\n",
       "      <td>0</td>\n",
       "    </tr>\n",
       "    <tr>\n",
       "      <th>4</th>\n",
       "      <td>2</td>\n",
       "      <td>68</td>\n",
       "      <td>22</td>\n",
       "      <td>15</td>\n",
       "      <td>3</td>\n",
       "      <td>1</td>\n",
       "      <td>0</td>\n",
       "      <td>1</td>\n",
       "      <td>5.52</td>\n",
       "      <td>0</td>\n",
       "    </tr>\n",
       "  </tbody>\n",
       "</table>\n",
       "</div>"
      ],
      "text/plain": [
       "   num_passengers  purchase_lead  length_of_stay  flight_hour  flight_day  \\\n",
       "0               2            262              19            7           6   \n",
       "1               1            112              20            3           6   \n",
       "2               2            243              22           17           3   \n",
       "3               1             96              31            4           6   \n",
       "4               2             68              22           15           3   \n",
       "\n",
       "   wants_extra_baggage  wants_preferred_seat  wants_in_flight_meals  \\\n",
       "0                    1                     0                      0   \n",
       "1                    0                     0                      0   \n",
       "2                    1                     1                      0   \n",
       "3                    0                     0                      1   \n",
       "4                    1                     0                      1   \n",
       "\n",
       "   flight_duration  booking_complete  \n",
       "0             5.52                 0  \n",
       "1             5.52                 0  \n",
       "2             5.52                 0  \n",
       "3             5.52                 0  \n",
       "4             5.52                 0  "
      ]
     },
     "execution_count": 18,
     "metadata": {},
     "output_type": "execute_result"
    }
   ],
   "source": [
    "selected_columns = ['num_passengers', 'purchase_lead', 'length_of_stay', 'flight_hour', \n",
    "                    'flight_day', 'wants_extra_baggage', 'wants_preferred_seat', \n",
    "                    'wants_in_flight_meals', 'flight_duration', 'booking_complete']\n",
    "df = df[selected_columns]\n",
    "df.head()"
   ]
  },
  {
   "cell_type": "code",
   "execution_count": 21,
   "metadata": {},
   "outputs": [],
   "source": [
    "# Data Preparation\n",
    "# Split the dataset into features (X) and the target (y)\n",
    "X = df.drop(columns=['booking_complete'])\n",
    "y = df['booking_complete']"
   ]
  },
  {
   "cell_type": "code",
   "execution_count": 25,
   "metadata": {},
   "outputs": [],
   "source": [
    "# Split the data into training and testing sets\n",
    "X_train, X_test, y_train, y_test = train_test_split(X, y, test_size=0.2, random_state=42)"
   ]
  },
  {
   "cell_type": "code",
   "execution_count": 28,
   "metadata": {},
   "outputs": [
    {
     "data": {
      "text/html": [
       "<style>#sk-container-id-3 {color: black;}#sk-container-id-3 pre{padding: 0;}#sk-container-id-3 div.sk-toggleable {background-color: white;}#sk-container-id-3 label.sk-toggleable__label {cursor: pointer;display: block;width: 100%;margin-bottom: 0;padding: 0.3em;box-sizing: border-box;text-align: center;}#sk-container-id-3 label.sk-toggleable__label-arrow:before {content: \"▸\";float: left;margin-right: 0.25em;color: #696969;}#sk-container-id-3 label.sk-toggleable__label-arrow:hover:before {color: black;}#sk-container-id-3 div.sk-estimator:hover label.sk-toggleable__label-arrow:before {color: black;}#sk-container-id-3 div.sk-toggleable__content {max-height: 0;max-width: 0;overflow: hidden;text-align: left;background-color: #f0f8ff;}#sk-container-id-3 div.sk-toggleable__content pre {margin: 0.2em;color: black;border-radius: 0.25em;background-color: #f0f8ff;}#sk-container-id-3 input.sk-toggleable__control:checked~div.sk-toggleable__content {max-height: 200px;max-width: 100%;overflow: auto;}#sk-container-id-3 input.sk-toggleable__control:checked~label.sk-toggleable__label-arrow:before {content: \"▾\";}#sk-container-id-3 div.sk-estimator input.sk-toggleable__control:checked~label.sk-toggleable__label {background-color: #d4ebff;}#sk-container-id-3 div.sk-label input.sk-toggleable__control:checked~label.sk-toggleable__label {background-color: #d4ebff;}#sk-container-id-3 input.sk-hidden--visually {border: 0;clip: rect(1px 1px 1px 1px);clip: rect(1px, 1px, 1px, 1px);height: 1px;margin: -1px;overflow: hidden;padding: 0;position: absolute;width: 1px;}#sk-container-id-3 div.sk-estimator {font-family: monospace;background-color: #f0f8ff;border: 1px dotted black;border-radius: 0.25em;box-sizing: border-box;margin-bottom: 0.5em;}#sk-container-id-3 div.sk-estimator:hover {background-color: #d4ebff;}#sk-container-id-3 div.sk-parallel-item::after {content: \"\";width: 100%;border-bottom: 1px solid gray;flex-grow: 1;}#sk-container-id-3 div.sk-label:hover label.sk-toggleable__label {background-color: #d4ebff;}#sk-container-id-3 div.sk-serial::before {content: \"\";position: absolute;border-left: 1px solid gray;box-sizing: border-box;top: 0;bottom: 0;left: 50%;z-index: 0;}#sk-container-id-3 div.sk-serial {display: flex;flex-direction: column;align-items: center;background-color: white;padding-right: 0.2em;padding-left: 0.2em;position: relative;}#sk-container-id-3 div.sk-item {position: relative;z-index: 1;}#sk-container-id-3 div.sk-parallel {display: flex;align-items: stretch;justify-content: center;background-color: white;position: relative;}#sk-container-id-3 div.sk-item::before, #sk-container-id-3 div.sk-parallel-item::before {content: \"\";position: absolute;border-left: 1px solid gray;box-sizing: border-box;top: 0;bottom: 0;left: 50%;z-index: -1;}#sk-container-id-3 div.sk-parallel-item {display: flex;flex-direction: column;z-index: 1;position: relative;background-color: white;}#sk-container-id-3 div.sk-parallel-item:first-child::after {align-self: flex-end;width: 50%;}#sk-container-id-3 div.sk-parallel-item:last-child::after {align-self: flex-start;width: 50%;}#sk-container-id-3 div.sk-parallel-item:only-child::after {width: 0;}#sk-container-id-3 div.sk-dashed-wrapped {border: 1px dashed gray;margin: 0 0.4em 0.5em 0.4em;box-sizing: border-box;padding-bottom: 0.4em;background-color: white;}#sk-container-id-3 div.sk-label label {font-family: monospace;font-weight: bold;display: inline-block;line-height: 1.2em;}#sk-container-id-3 div.sk-label-container {text-align: center;}#sk-container-id-3 div.sk-container {/* jupyter's `normalize.less` sets `[hidden] { display: none; }` but bootstrap.min.css set `[hidden] { display: none !important; }` so we also need the `!important` here to be able to override the default hidden behavior on the sphinx rendered scikit-learn.org. See: https://github.com/scikit-learn/scikit-learn/issues/21755 */display: inline-block !important;position: relative;}#sk-container-id-3 div.sk-text-repr-fallback {display: none;}</style><div id=\"sk-container-id-3\" class=\"sk-top-container\"><div class=\"sk-text-repr-fallback\"><pre>RandomForestClassifier(random_state=42)</pre><b>In a Jupyter environment, please rerun this cell to show the HTML representation or trust the notebook. <br />On GitHub, the HTML representation is unable to render, please try loading this page with nbviewer.org.</b></div><div class=\"sk-container\" hidden><div class=\"sk-item\"><div class=\"sk-estimator sk-toggleable\"><input class=\"sk-toggleable__control sk-hidden--visually\" id=\"sk-estimator-id-3\" type=\"checkbox\" checked><label for=\"sk-estimator-id-3\" class=\"sk-toggleable__label sk-toggleable__label-arrow\">RandomForestClassifier</label><div class=\"sk-toggleable__content\"><pre>RandomForestClassifier(random_state=42)</pre></div></div></div></div></div>"
      ],
      "text/plain": [
       "RandomForestClassifier(random_state=42)"
      ]
     },
     "execution_count": 28,
     "metadata": {},
     "output_type": "execute_result"
    }
   ],
   "source": [
    "# Train a Random Forest Classifier\n",
    "rf_classifier = RandomForestClassifier(n_estimators=100, random_state=42)\n",
    "rf_classifier.fit(X_train, y_train)"
   ]
  },
  {
   "cell_type": "code",
   "execution_count": 30,
   "metadata": {},
   "outputs": [],
   "source": [
    "# Make predictions on the test set\n",
    "y_pred = rf_classifier.predict(X_test)"
   ]
  },
  {
   "cell_type": "code",
   "execution_count": 31,
   "metadata": {},
   "outputs": [],
   "source": [
    "# Evaluate the model\n",
    "accuracy = accuracy_score(y_test, y_pred)\n",
    "conf_matrix = confusion_matrix(y_test, y_pred)\n",
    "classification_rep = classification_report(y_test, y_pred)"
   ]
  },
  {
   "cell_type": "code",
   "execution_count": 32,
   "metadata": {},
   "outputs": [
    {
     "name": "stdout",
     "output_type": "stream",
     "text": [
      "Accuracy: 0.8488\n",
      "\n",
      "Confusion Matrix:\n",
      " [[8397  123]\n",
      " [1389   91]]\n",
      "\n",
      "Classification Report:\n",
      "               precision    recall  f1-score   support\n",
      "\n",
      "           0       0.86      0.99      0.92      8520\n",
      "           1       0.43      0.06      0.11      1480\n",
      "\n",
      "    accuracy                           0.85     10000\n",
      "   macro avg       0.64      0.52      0.51     10000\n",
      "weighted avg       0.79      0.85      0.80     10000\n",
      "\n"
     ]
    }
   ],
   "source": [
    "# Print the evaluation metrics\n",
    "print(\"Accuracy:\", accuracy)\n",
    "print(\"\\nConfusion Matrix:\\n\", conf_matrix)\n",
    "print(\"\\nClassification Report:\\n\", classification_rep)"
   ]
  },
  {
   "cell_type": "code",
   "execution_count": 36,
   "metadata": {},
   "outputs": [
    {
     "data": {
      "image/png": "[encoded data removed]",
      "text/plain": [
       "<Figure size 640x480 with 2 Axes>"
      ]
     },
     "metadata": {},
     "output_type": "display_data"
    }
   ],
   "source": [
    "import seaborn as sns\n",
    "sns.heatmap(conf_matrix, annot=True, cmap='Blues', fmt='d', \n",
    "            xticklabels=['Predicted 0', 'Predicted 1'], \n",
    "            yticklabels=['Actual 0', 'Actual 1'])\n",
    "plt.xlabel('Predicted')\n",
    "plt.ylabel('Actual')\n",
    "plt.title('Confusion Matrix')\n",
    "plt.show()"
   ]
  },
  {
   "cell_type": "code",
   "execution_count": 37,
   "metadata": {},
   "outputs": [
    {
     "data": {
      "image/png": "[encoded data removed]",
      "text/plain": [
       "<Figure size 640x480 with 1 Axes>"
      ]
     },
     "metadata": {},
     "output_type": "display_data"
    }
   ],
   "source": [
    "from sklearn.metrics import roc_curve, roc_auc_score\n",
    "fpr, tpr, thresholds = roc_curve(y_test, rf_classifier.predict_proba(X_test)[:,1])\n",
    "plt.plot(fpr, tpr, label='ROC Curve')\n",
    "plt.xlabel('False Positive Rate')\n",
    "plt.ylabel('True Positive Rate')\n",
    "plt.title('ROC Curve')\n",
    "plt.legend()\n",
    "plt.show()\n"
   ]
  },
  {
   "cell_type": "code",
   "execution_count": 38,
   "metadata": {},
   "outputs": [
    {
     "data": {
      "image/png": "[encoded data removed]",
      "text/plain": [
       "<Figure size 1000x600 with 1 Axes>"
      ]
     },
     "metadata": {},
     "output_type": "display_data"
    }
   ],
   "source": [
    "feature_importances = rf_classifier.feature_importances_\n",
    "feature_names = X.columns\n",
    "plt.figure(figsize=(10, 6))\n",
    "plt.barh(range(len(feature_importances)), feature_importances, align='center')\n",
    "plt.yticks(range(len(feature_importances)), feature_names)\n",
    "plt.xlabel('Feature Importance')\n",
    "plt.ylabel('Features')\n",
    "plt.title('Feature Importance Plot')\n",
    "plt.gca().invert_yaxis()\n",
    "plt.show()\n"
   ]
  },
  {
   "cell_type": "code",
   "execution_count": 39,
   "metadata": {},
   "outputs": [
    {
     "data": {
      "image/png": "[encoded data removed]",
      "text/plain": [
       "<Figure size 640x480 with 1 Axes>"
      ]
     },
     "metadata": {},
     "output_type": "display_data"
    }
   ],
   "source": [
    "from sklearn.metrics import precision_recall_curve\n",
    "precision, recall, _ = precision_recall_curve(y_test, rf_classifier.predict_proba(X_test)[:,1])\n",
    "plt.plot(recall, precision, marker='.')\n",
    "plt.xlabel('Recall')\n",
    "plt.ylabel('Precision')\n",
    "plt.title('Precision-Recall Curve')\n",
    "plt.show()\n"
   ]
  },
  {
   "cell_type": "code",
   "execution_count": null,
   "metadata": {},
   "outputs": [],
   "source": []
  }
 ],
 "metadata": {
  "kernelspec": {
   "display_name": "Python 3 (ipykernel)",
   "language": "python",
   "name": "python3"
  },
  "language_info": {
   "codemirror_mode": {
    "name": "ipython",
    "version": 3
   },
   "file_extension": ".py",
   "mimetype": "text/x-python",
   "name": "python",
   "nbconvert_exporter": "python",
   "pygments_lexer": "ipython3",
   "version": "3.12.7"
  },
  "vscode": {
   "interpreter": {
    "hash": "4f7924c4c56b083e0e50eadfe7ef592a7a8ef70df33a0047f82280e6be1afe15"
   }
  }
 },
 "nbformat": 4,
 "nbformat_minor": 4
}
