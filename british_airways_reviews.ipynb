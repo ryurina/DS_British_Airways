{
 "cells": [
  {
   "cell_type": "markdown",
   "id": "c2f8ead3-1155-4163-8f2b-ef64d521836b",
   "metadata": {},
   "source": [
    "# Sentiment analysis\n",
    "\n",
    "##### Author: Rina RANARISON\n",
    "##### www.rina-corp.xyz\n",
    "##### www.github.com/ryurina"
   ]
  },
  {
   "cell_type": "code",
   "execution_count": 57,
   "id": "3b357eec-5a03-485f-b9e7-609a616ef93d",
   "metadata": {},
   "outputs": [],
   "source": [
    "import pandas as pd\n",
    "import nltk\n",
    "from textblob import TextBlob\n",
    "import matplotlib.pyplot as plt"
   ]
  },
  {
   "cell_type": "markdown",
   "id": "7d6f5d94-2117-40c2-b060-43f673b3b365",
   "metadata": {},
   "source": [
    "## Loading \"British Airways Reviews\" data"
   ]
  },
  {
   "cell_type": "code",
   "execution_count": 5,
   "id": "4669001b-6b57-417d-9418-54784c146cb6",
   "metadata": {},
   "outputs": [
    {
     "data": {
      "text/html": [
       "<div>\n",
       "<style scoped>\n",
       "    .dataframe tbody tr th:only-of-type {\n",
       "        vertical-align: middle;\n",
       "    }\n",
       "\n",
       "    .dataframe tbody tr th {\n",
       "        vertical-align: top;\n",
       "    }\n",
       "\n",
       "    .dataframe thead th {\n",
       "        text-align: right;\n",
       "    }\n",
       "</style>\n",
       "<table border=\"1\" class=\"dataframe\">\n",
       "  <thead>\n",
       "    <tr style=\"text-align: right;\">\n",
       "      <th></th>\n",
       "      <th>Unnamed: 0</th>\n",
       "      <th>reviews</th>\n",
       "    </tr>\n",
       "  </thead>\n",
       "  <tbody>\n",
       "    <tr>\n",
       "      <th>0</th>\n",
       "      <td>0</td>\n",
       "      <td>Not Verified | Just returned from Chicago, fle...</td>\n",
       "    </tr>\n",
       "    <tr>\n",
       "      <th>1</th>\n",
       "      <td>1</td>\n",
       "      <td>✅ Trip Verified |  BA standards continue to de...</td>\n",
       "    </tr>\n",
       "    <tr>\n",
       "      <th>2</th>\n",
       "      <td>2</td>\n",
       "      <td>Not Verified |  Awful. Business class check in...</td>\n",
       "    </tr>\n",
       "    <tr>\n",
       "      <th>3</th>\n",
       "      <td>3</td>\n",
       "      <td>✅ Trip Verified |  Not a reliable airline. You...</td>\n",
       "    </tr>\n",
       "    <tr>\n",
       "      <th>4</th>\n",
       "      <td>4</td>\n",
       "      <td>✅ Trip Verified |  I take comfort in reading t...</td>\n",
       "    </tr>\n",
       "  </tbody>\n",
       "</table>\n",
       "</div>"
      ],
      "text/plain": [
       "   Unnamed: 0                                            reviews\n",
       "0           0  Not Verified | Just returned from Chicago, fle...\n",
       "1           1  ✅ Trip Verified |  BA standards continue to de...\n",
       "2           2  Not Verified |  Awful. Business class check in...\n",
       "3           3  ✅ Trip Verified |  Not a reliable airline. You...\n",
       "4           4  ✅ Trip Verified |  I take comfort in reading t..."
      ]
     },
     "execution_count": 5,
     "metadata": {},
     "output_type": "execute_result"
    }
   ],
   "source": [
    "df = pd.read_csv('data/BA_reviews.csv')\n",
    "df.head()"
   ]
  },
  {
   "cell_type": "markdown",
   "id": "f91497f7-4148-4bd6-92b7-aff46caaca81",
   "metadata": {},
   "source": [
    "## Getting rid of the \"verified\" stuff"
   ]
  },
  {
   "cell_type": "code",
   "execution_count": 41,
   "id": "96d9f7fb-2bd9-4959-99bb-216cc60ede68",
   "metadata": {},
   "outputs": [
    {
     "name": "stdout",
     "output_type": "stream",
     "text": [
      "1000\n",
      " Awful. Business class check in queue just as long as for economy, probably because half of the desks were not staffed and Terminal 5 is chaotic. Business lounge overfull, couldn't get seats. Delayed flight, unmanaged chaos at the gate. No drink on boarding, first drink served an hour after take-off. The meal was poor, used to get better in economy on other airlines. British Airways has won the race to the bottom of the cheapskate stakes. looking forward to the flight home.\n"
     ]
    }
   ],
   "source": [
    "print(len(df['reviews']))\n",
    "text = df['reviews'][2].replace('Not ', '').replace('Verified | ', '').replace('✅ Trip ', '')\n",
    "print(text)"
   ]
  },
  {
   "cell_type": "markdown",
   "id": "f164b012-e1c4-4933-883a-96856ea98261",
   "metadata": {},
   "source": [
    "## Sentiment analysis"
   ]
  },
  {
   "cell_type": "code",
   "execution_count": 43,
   "id": "ec1d54a2-6d0d-4770-b6c0-fae0a19f3a61",
   "metadata": {},
   "outputs": [
    {
     "name": "stdout",
     "output_type": "stream",
     "text": [
      " Awful. Business class check in queue just as long as for economy, probably because half of the desks were not staffed and Terminal 5 is chaotic. Business lounge overfull, couldn't get seats. Delayed flight, unmanaged chaos at the gate. No drink on boarding, first drink served an hour after take-off. The meal was poor, used to get better in economy on other airlines. British Airways has won the race to the bottom of the cheapskate stakes. looking forward to the flight home.\n",
      "-0.12395833333333334\n"
     ]
    }
   ],
   "source": [
    "blob = TextBlob(text)\n",
    "print(blob)\n",
    "sentiment = blob.sentiment.polarity\n",
    "print(sentiment)"
   ]
  },
  {
   "cell_type": "markdown",
   "id": "0b0e619b-0d29-4571-a7fb-478c7c548cdd",
   "metadata": {},
   "source": [
    "## Generalization of the Sentiment analysis"
   ]
  },
  {
   "cell_type": "code",
   "execution_count": 44,
   "id": "8a323b7e-0362-4159-91f9-2cbf55fcc373",
   "metadata": {},
   "outputs": [],
   "source": [
    "def sentiment_analysis(text):\n",
    "    blob = TextBlob(text)\n",
    "    sentiment = blob.sentiment.polarity\n",
    "    return sentiment"
   ]
  },
  {
   "cell_type": "code",
   "execution_count": 46,
   "id": "0cd599b2-dac3-4483-bfee-1a1c462c424e",
   "metadata": {},
   "outputs": [
    {
     "data": {
      "text/plain": [
       "1000"
      ]
     },
     "execution_count": 46,
     "metadata": {},
     "output_type": "execute_result"
    }
   ],
   "source": [
    "arr = []\n",
    "for i in range(len(df['reviews'])):\n",
    "    text = df['reviews'][i].replace('Not ', '').replace('Verified | ', '').replace('✅ Trip ', '')\n",
    "    arr += [sentiment_analysis(text)]\n",
    "\n",
    "len(arr)"
   ]
  },
  {
   "cell_type": "code",
   "execution_count": 58,
   "id": "bd99eaaa-6223-44ec-9b0a-87fc0a3fd31e",
   "metadata": {},
   "outputs": [
    {
     "name": "stdout",
     "output_type": "stream",
     "text": [
      "neg = 331 | neu = 34 | pos = 635 | \n"
     ]
    }
   ],
   "source": [
    "neg_review = 0\n",
    "pos_review = 0\n",
    "neu_review = 0\n",
    "\n",
    "for i in arr:\n",
    "    if round(i, 2) > 0:\n",
    "        pos_review += 1\n",
    "    else:\n",
    "        if round(i, 2) < 0:\n",
    "            neg_review += 1\n",
    "        else:\n",
    "            neu_review += 1\n",
    "\n",
    "print(f'neg = {neg_review} | neu = {neu_review} | pos = {pos_review} | ')"
   ]
  },
  {
   "cell_type": "markdown",
   "id": "a25c9012-4648-4ee3-a98f-02e16d10e119",
   "metadata": {},
   "source": [
    "## Online reviews of British Airways"
   ]
  },
  {
   "cell_type": "code",
   "execution_count": 59,
   "id": "e7dd1e41-a4a4-48cd-8a96-f9368faa4e11",
   "metadata": {},
   "outputs": [
    {
     "data": {
      "text/plain": [
       "([<matplotlib.patches.Wedge at 0x7fd8ba847450>,\n",
       "  <matplotlib.patches.Wedge at 0x7fd8ba6f8c10>,\n",
       "  <matplotlib.patches.Wedge at 0x7fd8ba709bd0>],\n",
       " [Text(0.556968287377953, 0.9485706757302115, 'Negative'),\n",
       "  Text(-0.6353299803222909, 0.8979731711491594, 'Neutral'),\n",
       "  Text(-0.452665811361303, -1.0025435966702962, 'Postive')])"
      ]
     },
     "execution_count": 59,
     "metadata": {},
     "output_type": "execute_result"
    },
    {
     "data": {
      "image/png": "[encoded data removed]",
      "text/plain": [
       "<Figure size 640x480 with 1 Axes>"
      ]
     },
     "metadata": {},
     "output_type": "display_data"
    }
   ],
   "source": [
    "labels = 'Negative', 'Neutral', 'Postive'\n",
    "sizes = [neg_review, neu_review, pos_review]\n",
    "\n",
    "fig, ax = plt.subplots()\n",
    "ax.pie(sizes, labels=labels)"
   ]
  }
 ],
 "metadata": {
  "kernelspec": {
   "display_name": "Python 3 (ipykernel)",
   "language": "python",
   "name": "python3"
  },
  "language_info": {
   "codemirror_mode": {
    "name": "ipython",
    "version": 3
   },
   "file_extension": ".py",
   "mimetype": "text/x-python",
   "name": "python",
   "nbconvert_exporter": "python",
   "pygments_lexer": "ipython3",
   "version": "3.12.7"
  }
 },
 "nbformat": 4,
 "nbformat_minor": 5
}
